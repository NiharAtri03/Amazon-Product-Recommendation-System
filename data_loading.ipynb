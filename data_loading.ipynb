{
 "cells": [
  {
   "cell_type": "markdown",
   "id": "4b75a616",
   "metadata": {
    "vscode": {
     "languageId": "raw"
    }
   },
   "source": [
    "# Data Loading\n",
    "This is the first notebook in my pipeline to build a recommendation system on Amazon products. It serves as the data ingestion and preprocessing pipeline for my model. I am getting my data from an open source repository of datasets that can be used to train a recommendation model (https://cseweb.ucsd.edu/~jmcauley/datasets.html). I need to load:\n",
    "\n",
    "- **Training Data**: Loading user review data with their relevant data (ratings, timestamps, and purchase history)\n",
    "- **Product Metadata**: Processing product metadata including titles, prices, ratings, and store details\n",
    "\n",
    "I will then merge these datasets to create one training dataset that contains user review data and product metadata."
   ]
  },
  {
   "cell_type": "code",
   "execution_count": null,
   "id": "7ee385dd-ae74-44cd-9dce-4f0d49ebfc1f",
   "metadata": {},
   "outputs": [],
   "source": [
    "from glob import glob\n",
    "import gzip\n",
    "import json\n",
    "import os\n",
    "import pandas as pd"
   ]
  },
  {
   "cell_type": "markdown",
   "id": "5c58bd0d",
   "metadata": {
    "vscode": {
     "languageId": "raw"
    }
   },
   "source": [
    "I need to first loading the compressed CSV files containing user review data. Each record represents a user's interaction with a product, including:\n",
    "- **user_id**: The unique user identifier\n",
    "- **parent_asin**: The unique product identifier (Amazon Standard Identification Number)\n",
    "- **rating**: A user's rating for the product (1-5 scale)\n",
    "- **timestamp**: When the review was made\n",
    "- **history**: A sequential list of previously purchased products\n",
    "- **category**: The product's category"
   ]
  },
  {
   "cell_type": "code",
   "execution_count": null,
   "id": "22d6c6c8-16ee-484b-b35f-74c3228593d9",
   "metadata": {},
   "outputs": [],
   "source": [
    "# read training review data\n",
    "all_files = glob(\"train_data/*.csv.gz\")\n",
    "\n",
    "train_dfs = []\n",
    "\n",
    "for file in all_files:\n",
    "    base = os.path.basename(file).replace(\".csv.gz\", \"\")\n",
    "    _, split = base.rsplit('.', 1)\n",
    "    \n",
    "    with gzip.open(file, 'rt', encoding='utf-8') as f:\n",
    "        df = pd.read_csv(f)\n",
    "    train_dfs.append(df)\n",
    "\n",
    "train_df = pd.concat(train_dfs, ignore_index=True)"
   ]
  },
  {
   "cell_type": "markdown",
   "id": "98b3ceaa",
   "metadata": {
    "vscode": {
     "languageId": "raw"
    }
   },
   "source": [
    "Let's examine the structure and content of our training data."
   ]
  },
  {
   "cell_type": "code",
   "execution_count": null,
   "id": "12b3d710-a78c-48d2-a8a6-3796c376edf5",
   "metadata": {},
   "outputs": [
    {
     "data": {
      "text/html": [
       "<div>\n",
       "<style scoped>\n",
       "    .dataframe tbody tr th:only-of-type {\n",
       "        vertical-align: middle;\n",
       "    }\n",
       "\n",
       "    .dataframe tbody tr th {\n",
       "        vertical-align: top;\n",
       "    }\n",
       "\n",
       "    .dataframe thead th {\n",
       "        text-align: right;\n",
       "    }\n",
       "</style>\n",
       "<table border=\"1\" class=\"dataframe\">\n",
       "  <thead>\n",
       "    <tr style=\"text-align: right;\">\n",
       "      <th></th>\n",
       "      <th>user_id</th>\n",
       "      <th>parent_asin</th>\n",
       "      <th>rating</th>\n",
       "      <th>timestamp</th>\n",
       "      <th>history</th>\n",
       "      <th>category</th>\n",
       "    </tr>\n",
       "  </thead>\n",
       "  <tbody>\n",
       "    <tr>\n",
       "      <th>0</th>\n",
       "      <td>AFJTRBXMURLHS5EGNXLUHDHIZRFQ</td>\n",
       "      <td>B096WPNG8Q</td>\n",
       "      <td>5.00</td>\n",
       "      <td>1600542207688</td>\n",
       "      <td>NaN</td>\n",
       "      <td>Patio_Lawn_and_Garden</td>\n",
       "    </tr>\n",
       "    <tr>\n",
       "      <th>1</th>\n",
       "      <td>AFJTRBXMURLHS5EGNXLUHDHIZRFQ</td>\n",
       "      <td>B000BQT5IG</td>\n",
       "      <td>3.00</td>\n",
       "      <td>1602272552200</td>\n",
       "      <td>B096WPNG8Q</td>\n",
       "      <td>Patio_Lawn_and_Garden</td>\n",
       "    </tr>\n",
       "    <tr>\n",
       "      <th>2</th>\n",
       "      <td>AFJTRBXMURLHS5EGNXLUHDHIZRFQ</td>\n",
       "      <td>B002FGU2MI</td>\n",
       "      <td>4.00</td>\n",
       "      <td>1624053736863</td>\n",
       "      <td>B096WPNG8Q B000BQT5IG</td>\n",
       "      <td>Patio_Lawn_and_Garden</td>\n",
       "    </tr>\n",
       "    <tr>\n",
       "      <th>3</th>\n",
       "      <td>AEFKF6R2GUSK2AWPSWRR4ZO36JVQ</td>\n",
       "      <td>B073V7N6RQ</td>\n",
       "      <td>5.00</td>\n",
       "      <td>1566941698710</td>\n",
       "      <td>NaN</td>\n",
       "      <td>Patio_Lawn_and_Garden</td>\n",
       "    </tr>\n",
       "    <tr>\n",
       "      <th>4</th>\n",
       "      <td>AEFKF6R2GUSK2AWPSWRR4ZO36JVQ</td>\n",
       "      <td>B01J0RIRUS</td>\n",
       "      <td>4.00</td>\n",
       "      <td>1566941843328</td>\n",
       "      <td>B073V7N6RQ</td>\n",
       "      <td>Patio_Lawn_and_Garden</td>\n",
       "    </tr>\n",
       "  </tbody>\n",
       "</table>\n",
       "</div>"
      ],
      "text/plain": [
       "                        user_id parent_asin  rating      timestamp  \\\n",
       "0  AFJTRBXMURLHS5EGNXLUHDHIZRFQ  B096WPNG8Q    5.00  1600542207688   \n",
       "1  AFJTRBXMURLHS5EGNXLUHDHIZRFQ  B000BQT5IG    3.00  1602272552200   \n",
       "2  AFJTRBXMURLHS5EGNXLUHDHIZRFQ  B002FGU2MI    4.00  1624053736863   \n",
       "3  AEFKF6R2GUSK2AWPSWRR4ZO36JVQ  B073V7N6RQ    5.00  1566941698710   \n",
       "4  AEFKF6R2GUSK2AWPSWRR4ZO36JVQ  B01J0RIRUS    4.00  1566941843328   \n",
       "\n",
       "                 history               category  \n",
       "0                    NaN  Patio_Lawn_and_Garden  \n",
       "1             B096WPNG8Q  Patio_Lawn_and_Garden  \n",
       "2  B096WPNG8Q B000BQT5IG  Patio_Lawn_and_Garden  \n",
       "3                    NaN  Patio_Lawn_and_Garden  \n",
       "4             B073V7N6RQ  Patio_Lawn_and_Garden  "
      ]
     },
     "execution_count": 6,
     "metadata": {},
     "output_type": "execute_result"
    }
   ],
   "source": [
    "train_df.head()"
   ]
  },
  {
   "cell_type": "markdown",
   "id": "7f601026",
   "metadata": {
    "vscode": {
     "languageId": "raw"
    }
   },
   "source": [
    "Next, I need to process product metadata from compressed JSONL files. From each JSONL file, we'll extract key product features, organize them into manageable chunks for efficient processing, and combine them into one, simple dataframe for analysis.\n",
    "\n",
    "The key features I extract are:\n",
    "- **title**: The product's name/description\n",
    "- **average_rating**: The product's rating for all users\n",
    "- **price**: The product's price \n",
    "- **store**: The product's brand/store name\n",
    "- **parent_asin**: The product's unique identifier\n",
    "- **rating_number**: The number of ratings received\n",
    "- **main_category**: The product's main category\n"
   ]
  },
  {
   "cell_type": "code",
   "execution_count": null,
   "id": "934345e6-70ba-4186-86f5-9140ee7a0862",
   "metadata": {},
   "outputs": [],
   "source": [
    "output_dir = \"meta_chunks\"\n",
    "data_dir = \"metadata\"\n",
    "file_pattern = os.path.join(data_dir, \"meta_*.jsonl.gz\")\n",
    "\n",
    "columns_to_keep = [\"title\", \"average_rating\", \"price\", \"store\", \"parent_asin\", \"rating_number\", \"main_category\"]\n",
    "\n",
    "os.makedirs(output_dir, exist_ok=True)\n",
    "\n",
    "chunk_id = 0\n",
    "\n",
    "def safe_float(val):\n",
    "    try:\n",
    "        return float(val)\n",
    "    except:\n",
    "        return -1.00\n",
    "\n",
    "for file_path in glob(file_pattern):\n",
    "    chunk = []\n",
    "    with gzip.open(file_path, 'rt', encoding='utf-8') as f:\n",
    "        for i, line in enumerate(f):\n",
    "            try:\n",
    "                record = json.loads(line)\n",
    "                filtered = {key: record.get(key, None) for key in columns_to_keep}\n",
    "                filtered[\"price\"] = safe_float(filtered.get(\"price\", None))\n",
    "                chunk.append(filtered)\n",
    "            except:\n",
    "                continue\n",
    "\n",
    "            if len(chunk) >= 500000:\n",
    "                df = pd.DataFrame(chunk)\n",
    "                df[\"price\"] = df[\"price\"].astype(\"float64\")\n",
    "                output_file = os.path.join(output_dir, f\"chunk_{chunk_id}.parquet\")\n",
    "                df.to_parquet(output_file, engine='pyarrow', compression='snappy', index=False)\n",
    "                chunk_id += 1\n",
    "                chunk = []\n",
    "\n",
    "    if chunk:\n",
    "        df = pd.DataFrame(chunk)\n",
    "        df[\"price\"] = df[\"price\"].astype(\"float64\")\n",
    "        output_file = os.path.join(output_dir, f\"chunk_{chunk_id}.parquet\")\n",
    "        df.to_parquet(output_file, engine='pyarrow', compression='snappy', index=False)\n",
    "        chunk_id += 1"
   ]
  },
  {
   "cell_type": "code",
   "execution_count": 4,
   "id": "d2712722-57c8-4100-95d7-fd096ffe7bc2",
   "metadata": {},
   "outputs": [],
   "source": [
    "# read metadata\n",
    "all_chunks = glob(os.path.join(output_dir, \"chunk_*.parquet\"))\n",
    "meta_df = pd.concat([pd.read_parquet(f) for f in all_chunks], ignore_index=True)"
   ]
  },
  {
   "cell_type": "markdown",
   "id": "269b5a02",
   "metadata": {
    "vscode": {
     "languageId": "raw"
    }
   },
   "source": [
    "Let's examine the loaded metadata structure and sample records."
   ]
  },
  {
   "cell_type": "code",
   "execution_count": 6,
   "id": "df8e195a-cfda-4fff-86b7-1ef3ed585a7a",
   "metadata": {},
   "outputs": [
    {
     "data": {
      "text/html": [
       "<div>\n",
       "<style scoped>\n",
       "    .dataframe tbody tr th:only-of-type {\n",
       "        vertical-align: middle;\n",
       "    }\n",
       "\n",
       "    .dataframe tbody tr th {\n",
       "        vertical-align: top;\n",
       "    }\n",
       "\n",
       "    .dataframe thead th {\n",
       "        text-align: right;\n",
       "    }\n",
       "</style>\n",
       "<table border=\"1\" class=\"dataframe\">\n",
       "  <thead>\n",
       "    <tr style=\"text-align: right;\">\n",
       "      <th></th>\n",
       "      <th>title</th>\n",
       "      <th>average_rating</th>\n",
       "      <th>price</th>\n",
       "      <th>store</th>\n",
       "      <th>parent_asin</th>\n",
       "    </tr>\n",
       "  </thead>\n",
       "  <tbody>\n",
       "    <tr>\n",
       "      <th>0</th>\n",
       "      <td>Dark Roast Pure Coffee</td>\n",
       "      <td>4.7</td>\n",
       "      <td>-1.00</td>\n",
       "      <td>Luzianne</td>\n",
       "      <td>B00NE08WM6</td>\n",
       "    </tr>\n",
       "    <tr>\n",
       "      <th>1</th>\n",
       "      <td>PICARAS Galletas Peruanas Bañadas en Chocolate...</td>\n",
       "      <td>4.5</td>\n",
       "      <td>15.99</td>\n",
       "      <td>Winters</td>\n",
       "      <td>B084Q13Q5Q</td>\n",
       "    </tr>\n",
       "    <tr>\n",
       "      <th>2</th>\n",
       "      <td>Chipped Beef and Gravy By Patterson's - Great ...</td>\n",
       "      <td>3.2</td>\n",
       "      <td>-1.00</td>\n",
       "      <td>Pattersons</td>\n",
       "      <td>B00KBRUYVM</td>\n",
       "    </tr>\n",
       "    <tr>\n",
       "      <th>3</th>\n",
       "      <td>Asher's Sugar Free Milk Chocolate Cordial Cher...</td>\n",
       "      <td>5.0</td>\n",
       "      <td>29.99</td>\n",
       "      <td>Generic</td>\n",
       "      <td>B0BN4PW255</td>\n",
       "    </tr>\n",
       "    <tr>\n",
       "      <th>4</th>\n",
       "      <td>Messmer Peppermint 25 bags (6er pack)</td>\n",
       "      <td>3.5</td>\n",
       "      <td>29.99</td>\n",
       "      <td>Messmer</td>\n",
       "      <td>B06X9DC27H</td>\n",
       "    </tr>\n",
       "  </tbody>\n",
       "</table>\n",
       "</div>"
      ],
      "text/plain": [
       "                                               title  average_rating  price  \\\n",
       "0                             Dark Roast Pure Coffee             4.7  -1.00   \n",
       "1  PICARAS Galletas Peruanas Bañadas en Chocolate...             4.5  15.99   \n",
       "2  Chipped Beef and Gravy By Patterson's - Great ...             3.2  -1.00   \n",
       "3  Asher's Sugar Free Milk Chocolate Cordial Cher...             5.0  29.99   \n",
       "4              Messmer Peppermint 25 bags (6er pack)             3.5  29.99   \n",
       "\n",
       "        store parent_asin  \n",
       "0    Luzianne  B00NE08WM6  \n",
       "1     Winters  B084Q13Q5Q  \n",
       "2  Pattersons  B00KBRUYVM  \n",
       "3     Generic  B0BN4PW255  \n",
       "4     Messmer  B06X9DC27H  "
      ]
     },
     "execution_count": 6,
     "metadata": {},
     "output_type": "execute_result"
    }
   ],
   "source": [
    "meta_df.head()"
   ]
  },
  {
   "cell_type": "code",
   "execution_count": 7,
   "id": "a71118ae-6541-4c24-b7ba-a44755cf64f5",
   "metadata": {},
   "outputs": [
    {
     "data": {
      "text/plain": [
       "(22930397, 5)"
      ]
     },
     "execution_count": 7,
     "metadata": {},
     "output_type": "execute_result"
    }
   ],
   "source": [
    "meta_df.shape"
   ]
  },
  {
   "cell_type": "markdown",
   "id": "0870d115",
   "metadata": {
    "vscode": {
     "languageId": "raw"
    }
   },
   "source": [
    "To make future analysis easier, let's conduct some feature engineering. We can create a binary feature that indicates if a price is missing or not, which can help the model understand price availability as a feature that might influence recommendations."
   ]
  },
  {
   "cell_type": "code",
   "execution_count": 6,
   "id": "7f6e65e5-373d-463e-b771-e2252f986301",
   "metadata": {},
   "outputs": [
    {
     "data": {
      "text/html": [
       "<div>\n",
       "<style scoped>\n",
       "    .dataframe tbody tr th:only-of-type {\n",
       "        vertical-align: middle;\n",
       "    }\n",
       "\n",
       "    .dataframe tbody tr th {\n",
       "        vertical-align: top;\n",
       "    }\n",
       "\n",
       "    .dataframe thead th {\n",
       "        text-align: right;\n",
       "    }\n",
       "</style>\n",
       "<table border=\"1\" class=\"dataframe\">\n",
       "  <thead>\n",
       "    <tr style=\"text-align: right;\">\n",
       "      <th></th>\n",
       "      <th>title</th>\n",
       "      <th>average_rating</th>\n",
       "      <th>price</th>\n",
       "      <th>store</th>\n",
       "      <th>parent_asin</th>\n",
       "      <th>price_missing</th>\n",
       "    </tr>\n",
       "  </thead>\n",
       "  <tbody>\n",
       "    <tr>\n",
       "      <th>0</th>\n",
       "      <td>Dark Roast Pure Coffee</td>\n",
       "      <td>4.7</td>\n",
       "      <td>-1.00</td>\n",
       "      <td>Luzianne</td>\n",
       "      <td>B00NE08WM6</td>\n",
       "      <td>1</td>\n",
       "    </tr>\n",
       "    <tr>\n",
       "      <th>1</th>\n",
       "      <td>PICARAS Galletas Peruanas Bañadas en Chocolate...</td>\n",
       "      <td>4.5</td>\n",
       "      <td>15.99</td>\n",
       "      <td>Winters</td>\n",
       "      <td>B084Q13Q5Q</td>\n",
       "      <td>0</td>\n",
       "    </tr>\n",
       "    <tr>\n",
       "      <th>2</th>\n",
       "      <td>Chipped Beef and Gravy By Patterson's - Great ...</td>\n",
       "      <td>3.2</td>\n",
       "      <td>-1.00</td>\n",
       "      <td>Pattersons</td>\n",
       "      <td>B00KBRUYVM</td>\n",
       "      <td>1</td>\n",
       "    </tr>\n",
       "    <tr>\n",
       "      <th>3</th>\n",
       "      <td>Asher's Sugar Free Milk Chocolate Cordial Cher...</td>\n",
       "      <td>5.0</td>\n",
       "      <td>29.99</td>\n",
       "      <td>Generic</td>\n",
       "      <td>B0BN4PW255</td>\n",
       "      <td>0</td>\n",
       "    </tr>\n",
       "    <tr>\n",
       "      <th>4</th>\n",
       "      <td>Messmer Peppermint 25 bags (6er pack)</td>\n",
       "      <td>3.5</td>\n",
       "      <td>29.99</td>\n",
       "      <td>Messmer</td>\n",
       "      <td>B06X9DC27H</td>\n",
       "      <td>0</td>\n",
       "    </tr>\n",
       "  </tbody>\n",
       "</table>\n",
       "</div>"
      ],
      "text/plain": [
       "                                               title  average_rating  price  \\\n",
       "0                             Dark Roast Pure Coffee             4.7  -1.00   \n",
       "1  PICARAS Galletas Peruanas Bañadas en Chocolate...             4.5  15.99   \n",
       "2  Chipped Beef and Gravy By Patterson's - Great ...             3.2  -1.00   \n",
       "3  Asher's Sugar Free Milk Chocolate Cordial Cher...             5.0  29.99   \n",
       "4              Messmer Peppermint 25 bags (6er pack)             3.5  29.99   \n",
       "\n",
       "        store parent_asin  price_missing  \n",
       "0    Luzianne  B00NE08WM6              1  \n",
       "1     Winters  B084Q13Q5Q              0  \n",
       "2  Pattersons  B00KBRUYVM              1  \n",
       "3     Generic  B0BN4PW255              0  \n",
       "4     Messmer  B06X9DC27H              0  "
      ]
     },
     "execution_count": 6,
     "metadata": {},
     "output_type": "execute_result"
    }
   ],
   "source": [
    "# adding missing value column that model can learn\n",
    "meta_df[\"price_missing\"] = (meta_df[\"price\"] == -1.0).astype(int)\n",
    "meta_df.head()"
   ]
  },
  {
   "cell_type": "code",
   "execution_count": 38,
   "id": "08ea157b-ecb2-453c-9bcf-361580c04624",
   "metadata": {},
   "outputs": [
    {
     "data": {
      "text/html": [
       "<div>\n",
       "<style scoped>\n",
       "    .dataframe tbody tr th:only-of-type {\n",
       "        vertical-align: middle;\n",
       "    }\n",
       "\n",
       "    .dataframe tbody tr th {\n",
       "        vertical-align: top;\n",
       "    }\n",
       "\n",
       "    .dataframe thead th {\n",
       "        text-align: right;\n",
       "    }\n",
       "</style>\n",
       "<table border=\"1\" class=\"dataframe\">\n",
       "  <thead>\n",
       "    <tr style=\"text-align: right;\">\n",
       "      <th></th>\n",
       "      <th>title</th>\n",
       "      <th>average_rating</th>\n",
       "      <th>price</th>\n",
       "      <th>store</th>\n",
       "      <th>parent_asin</th>\n",
       "      <th>price_missing</th>\n",
       "    </tr>\n",
       "  </thead>\n",
       "  <tbody>\n",
       "    <tr>\n",
       "      <th>0</th>\n",
       "      <td>Dark Roast Pure Coffee</td>\n",
       "      <td>4.70</td>\n",
       "      <td>-1.00</td>\n",
       "      <td>Luzianne</td>\n",
       "      <td>B00NE08WM6</td>\n",
       "      <td>1</td>\n",
       "    </tr>\n",
       "    <tr>\n",
       "      <th>1</th>\n",
       "      <td>PICARAS Galletas Peruanas Bañadas en Chocolate...</td>\n",
       "      <td>4.50</td>\n",
       "      <td>15.99</td>\n",
       "      <td>Winters</td>\n",
       "      <td>B084Q13Q5Q</td>\n",
       "      <td>0</td>\n",
       "    </tr>\n",
       "    <tr>\n",
       "      <th>2</th>\n",
       "      <td>Chipped Beef and Gravy By Patterson's - Great ...</td>\n",
       "      <td>3.20</td>\n",
       "      <td>-1.00</td>\n",
       "      <td>Pattersons</td>\n",
       "      <td>B00KBRUYVM</td>\n",
       "      <td>1</td>\n",
       "    </tr>\n",
       "    <tr>\n",
       "      <th>3</th>\n",
       "      <td>Asher's Sugar Free Milk Chocolate Cordial Cher...</td>\n",
       "      <td>5.00</td>\n",
       "      <td>29.99</td>\n",
       "      <td>Generic</td>\n",
       "      <td>B0BN4PW255</td>\n",
       "      <td>0</td>\n",
       "    </tr>\n",
       "    <tr>\n",
       "      <th>4</th>\n",
       "      <td>Messmer Peppermint 25 bags (6er pack)</td>\n",
       "      <td>3.50</td>\n",
       "      <td>29.99</td>\n",
       "      <td>Messmer</td>\n",
       "      <td>B06X9DC27H</td>\n",
       "      <td>0</td>\n",
       "    </tr>\n",
       "    <tr>\n",
       "      <th>5</th>\n",
       "      <td>Crystal Light Peach Tea Drink Mix (36 Pitcher ...</td>\n",
       "      <td>4.70</td>\n",
       "      <td>-1.00</td>\n",
       "      <td>Crystal Light</td>\n",
       "      <td>B0BN7CKZYC</td>\n",
       "      <td>1</td>\n",
       "    </tr>\n",
       "    <tr>\n",
       "      <th>6</th>\n",
       "      <td>Chincoteague Seafood 90944 Vegetable Red Crab ...</td>\n",
       "      <td>5.00</td>\n",
       "      <td>73.57</td>\n",
       "      <td>Chincoteague Seafood</td>\n",
       "      <td>B002HQF1BI</td>\n",
       "      <td>0</td>\n",
       "    </tr>\n",
       "    <tr>\n",
       "      <th>7</th>\n",
       "      <td>Lmtime Double Wall Glass Leak-Proof Water Bott...</td>\n",
       "      <td>1.00</td>\n",
       "      <td>-1.00</td>\n",
       "      <td>Lmtime</td>\n",
       "      <td>B083JDXY4S</td>\n",
       "      <td>1</td>\n",
       "    </tr>\n",
       "    <tr>\n",
       "      <th>8</th>\n",
       "      <td>Vintners Best Fruit Wine Base-Rhubarb,128 oz</td>\n",
       "      <td>4.80</td>\n",
       "      <td>47.86</td>\n",
       "      <td>Home Brew Ohio</td>\n",
       "      <td>B019QP6648</td>\n",
       "      <td>0</td>\n",
       "    </tr>\n",
       "    <tr>\n",
       "      <th>9</th>\n",
       "      <td>Yuengling Medium Wing Sauce 13 oz</td>\n",
       "      <td>4.10</td>\n",
       "      <td>-1.00</td>\n",
       "      <td>Yuengling</td>\n",
       "      <td>B01FHPU34A</td>\n",
       "      <td>1</td>\n",
       "    </tr>\n",
       "  </tbody>\n",
       "</table>\n",
       "</div>"
      ],
      "text/plain": [
       "                                               title  average_rating  price  \\\n",
       "0                             Dark Roast Pure Coffee            4.70  -1.00   \n",
       "1  PICARAS Galletas Peruanas Bañadas en Chocolate...            4.50  15.99   \n",
       "2  Chipped Beef and Gravy By Patterson's - Great ...            3.20  -1.00   \n",
       "3  Asher's Sugar Free Milk Chocolate Cordial Cher...            5.00  29.99   \n",
       "4              Messmer Peppermint 25 bags (6er pack)            3.50  29.99   \n",
       "5  Crystal Light Peach Tea Drink Mix (36 Pitcher ...            4.70  -1.00   \n",
       "6  Chincoteague Seafood 90944 Vegetable Red Crab ...            5.00  73.57   \n",
       "7  Lmtime Double Wall Glass Leak-Proof Water Bott...            1.00  -1.00   \n",
       "8       Vintners Best Fruit Wine Base-Rhubarb,128 oz            4.80  47.86   \n",
       "9                  Yuengling Medium Wing Sauce 13 oz            4.10  -1.00   \n",
       "\n",
       "                  store parent_asin  price_missing  \n",
       "0              Luzianne  B00NE08WM6              1  \n",
       "1               Winters  B084Q13Q5Q              0  \n",
       "2            Pattersons  B00KBRUYVM              1  \n",
       "3               Generic  B0BN4PW255              0  \n",
       "4               Messmer  B06X9DC27H              0  \n",
       "5         Crystal Light  B0BN7CKZYC              1  \n",
       "6  Chincoteague Seafood  B002HQF1BI              0  \n",
       "7                Lmtime  B083JDXY4S              1  \n",
       "8        Home Brew Ohio  B019QP6648              0  \n",
       "9             Yuengling  B01FHPU34A              1  "
      ]
     },
     "execution_count": 38,
     "metadata": {},
     "output_type": "execute_result"
    }
   ],
   "source": [
    "meta_df.head(n=10)"
   ]
  },
  {
   "cell_type": "code",
   "execution_count": null,
   "id": "c26b3c16-d259-48e0-8c30-be8e80dec0b7",
   "metadata": {},
   "outputs": [],
   "source": [
    "# filter metadata to only include products that appear in our training data\n",
    "relevant_asins = train_df[\"parent_asin\"].unique()\n",
    "meta_df = meta_df[meta_df[\"parent_asin\"].isin(relevant_asins)]"
   ]
  },
  {
   "cell_type": "markdown",
   "id": "83934298",
   "metadata": {
    "vscode": {
     "languageId": "raw"
    }
   },
   "source": [
    "Now, we can create the final dataset by joining our user interaction data with product metadata. This unified dataset will be used for model training and contains all the necessary features for building a recommendation system:\n",
    "\n",
    "**Final Dataset Features:**\n",
    "- **User Information**: user_id, history of previous purchases\n",
    "- **Product Information**: parent_asin, title, store, category\n",
    "- **Interaction Data**: rating, timestamp\n",
    "- **Product Attributes**: average_rating, price, price_missing indicator\n"
   ]
  },
  {
   "cell_type": "code",
   "execution_count": null,
   "id": "b8a637fc-98f1-4794-9d7f-8d47b2c74aef",
   "metadata": {},
   "outputs": [],
   "source": [
    "train_df = train_df.merge(meta_df, on=\"parent_asin\", how=\"inner\")\n",
    "\n",
    "# save merged dataframe\n",
    "output_path = \"merged_data/merged_train_df.parquet\"\n",
    "os.makedirs(\"merged_data\", exist_ok=True)\n",
    "train_df.to_parquet(output_path, index=False, engine='pyarrow', compression='snappy')"
   ]
  }
 ],
 "metadata": {
  "environment": {
   "kernel": "conda-base-py",
   "name": "workbench-notebooks.m131",
   "type": "gcloud",
   "uri": "us-docker.pkg.dev/deeplearning-platform-release/gcr.io/workbench-notebooks:m131"
  },
  "kernelspec": {
   "display_name": "Python 3 (ipykernel)",
   "language": "python",
   "name": "conda-base-py"
  },
  "language_info": {
   "codemirror_mode": {
    "name": "ipython",
    "version": 3
   },
   "file_extension": ".py",
   "mimetype": "text/x-python",
   "name": "python",
   "nbconvert_exporter": "python",
   "pygments_lexer": "ipython3",
   "version": "3.10.18"
  }
 },
 "nbformat": 4,
 "nbformat_minor": 5
}
